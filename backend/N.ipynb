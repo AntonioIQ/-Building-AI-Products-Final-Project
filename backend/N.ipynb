{
 "cells": [
  {
   "cell_type": "code",
   "execution_count": 1,
   "metadata": {},
   "outputs": [],
   "source": [
    "from recommendations import load_music_data, get_genres_by_personality, get_combined_genres, retrieve_data, generate_response"
   ]
  },
  {
   "cell_type": "code",
   "execution_count": 2,
   "metadata": {},
   "outputs": [],
   "source": [
    "music_data, personalities_data, mood_genres = load_music_data()"
   ]
  },
  {
   "cell_type": "code",
   "execution_count": 5,
   "metadata": {},
   "outputs": [
    {
     "name": "stdout",
     "output_type": "stream",
     "text": [
      "Géneros asociados a la personalidad 'extrovertion': []\n"
     ]
    }
   ],
   "source": [
    "personality = \"extrovertion\"\n",
    "genres = get_genres_by_personality(personality, personalities_data)\n",
    "print(f\"Géneros asociados a la personalidad '{personality}': {genres}\")"
   ]
  },
  {
   "cell_type": "code",
   "execution_count": 7,
   "metadata": {},
   "outputs": [
    {
     "name": "stdout",
     "output_type": "stream",
     "text": [
      "Géneros combinados para la personalidad ['Pop', 'Rock'] y el estado de ánimo 'sad': ['soul', 'Rock', 'blues', 'Pop', 'acoustic']\n",
      "Recomendaciones:\n",
      "Canción: What Are You Listening To?, Artista: Chris Stapleton\n",
      "Canción: Rude (Acoustic), Artista: Magic!\n",
      "Canción: ICY GRL (feat. Kehlani) [Bae Mix], Artista: Saweetie\n",
      "Canción: Anthology, Artista: Ray Charles\n",
      "Canción: Live Is A Four Letter Word, Artista: Jason Mraz\n",
      "Canción: Tell It To My Heart (KREAM Remix), Artista: Meduza\n",
      "Canción: Late Night Tales: BADBADNOTGOOD, Artista: BADBADNOTGOOD\n",
      "Canción: Adventure Time, Vol.1 (Original Soundtrack), Artista: Adventure Time\n",
      "Canción: ウタの歌 ONE PIECE FILM RED, Artista: Ado\n",
      "Canción: MYSTERY, Artista: Turnstile\n",
      "Aquí están tus recomendaciones de canciones y artistas basadas en tu personalidad y estado de ánimo:\n",
      "1. Canción: La Modelo (feat. Cardi B), Artista: Ozuna\n",
      "2. Canción: Bucket List Project, Artista: Saba\n",
      "3. Canción: STOOPID, Artista: 6ix9ine\n",
      "4. Canción: Best Friend (feat. Doja Cat), Artista: Saweetie\n",
      "5. Canción: Grown Up, Artista: Danny Brown\n",
      "6. Canción: Yamborghini High, Artista: A$AP Mob\n",
      "7. Canción: Bluesman, Artista: Baco Exu do Blues\n",
      "8. Canción: GPS, Artista: Maluma\n",
      "9. Canción: Gangsta's Paradise, Artista: Coolio\n",
      "10. Canción: BBNG, Artista: BADBADNOTGOOD\n",
      "\n"
     ]
    }
   ],
   "source": [
    "# Obtener géneros combinados\n",
    "personality_genres = [\"Pop\", \"Rock\"]\n",
    "mood = \"sad\"\n",
    "combined_genres = get_combined_genres(personality_genres, mood_genres, mood)\n",
    "print(f\"Géneros combinados para la personalidad {personality_genres} y el estado de ánimo '{mood}': {combined_genres}\")\n",
    "\n",
    "# Obtener recomendaciones\n",
    "recommendations = retrieve_data(music_data, combined_genres)\n",
    "print(\"Recomendaciones:\")\n",
    "for artist, info in recommendations.items():\n",
    "    print(f\"Canción: {info['song']}, Artista: {artist}\")\n",
    "\n",
    "# Generar respuesta de recomendaciones\n",
    "user_personality = \"extrovertido\"\n",
    "user_mood = \"happy\"\n",
    "response, recommendations = generate_response(user_personality, user_mood, music_data, personalities_data, mood_genres)\n",
    "print(response)"
   ]
  }
 ],
 "metadata": {
  "kernelspec": {
   "display_name": "Python 3",
   "language": "python",
   "name": "python3"
  },
  "language_info": {
   "codemirror_mode": {
    "name": "ipython",
    "version": 3
   },
   "file_extension": ".py",
   "mimetype": "text/x-python",
   "name": "python",
   "nbconvert_exporter": "python",
   "pygments_lexer": "ipython3",
   "version": "3.9.0"
  }
 },
 "nbformat": 4,
 "nbformat_minor": 2
}
